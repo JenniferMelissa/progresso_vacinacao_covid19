{
 "cells": [
  {
   "cell_type": "markdown",
   "metadata": {},
   "source": [
    "## Progresso Vacinação COVID-19\n",
    "---"
   ]
  },
  {
   "cell_type": "markdown",
   "metadata": {},
   "source": [
    "#### **INTRODUÇÃO**\n",
    "\n",
    "Os dados contêm as seguintes informações:\n",
    "\n",
    "**Country** - este é o país para o qual as informações de vacinação são fornecidas;\n",
    "\n",
    "**Country ISO Code** - código ISO para o país;\n",
    "\n",
    "**Date** - data para a entrada de dados; para algumas das datas, temos apenas as vacinações diárias, para outras, apenas o total (cumulativo);\n",
    "\n",
    "**Total number of vaccin ations** - este é o número absoluto de imunizações totais no país;\n",
    "\n",
    "**Total number of people vaccinated** - uma pessoa, dependendo do esquema de imunização, receberá uma ou mais (normalmente 2) vacinas; em um determinado momento, o número de vacinações pode ser maior do que o número de pessoas;\n",
    "\n",
    "**Total number of people fully vaccinated** - este é o número de pessoas que receberam todo o conjunto de imunizações de acordo com o esquema de imunização (normalmente 2); em um determinado momento, pode haver um certo número de pessoas que receberam uma vacina e outro número (menor) de pessoas que receberam todas as vacinas no esquema;\n",
    "\n",
    "**Daily vaccinations (raw)** - para uma determinada entrada de dados, o número de vacinações para aquela data/país;\n",
    "\n",
    "**Daily vaccinations** - para uma determinada entrada de dados, o número de vacinações para aquela data/país;\n",
    "\n",
    "**Total vaccinations per hundred** - razão (em porcentagem) entre o número de vacinações e a população total até a data no país;\n",
    "\n",
    "**Total number of people vaccinated per hundred** - razão (em porcentagem) entre a população imunizada e a população total até a data no país;\n",
    "\n",
    "**Total number of people fully vaccinated per hundred** - razão (em porcentagem) entre a população totalmente imunizada e a população total até a data no país;\n",
    "\n",
    "**Number of vaccinations per day** - número de vacinações diárias para aquele dia e país;\n",
    "\n",
    "**Daily vaccinations per million** - razão (em ppm) entre o número de vacinações e a população total para a data atual no país;\n",
    "\n",
    "**Vaccines used in the country** - número total de vacinas usadas no país (atualizado);\n",
    "\n",
    "**Source name** - fonte da informação (autoridade nacional, organização internacional, organização local etc.);\n",
    "\n",
    "**Source website** - site da fonte da informação;\n"
   ]
  },
  {
   "cell_type": "markdown",
   "metadata": {},
   "source": [
    "### Última Atualização\n",
    "---"
   ]
  },
  {
   "cell_type": "code",
   "execution_count": null,
   "metadata": {},
   "outputs": [],
   "source": [
    "import datetime\n",
    "import os\n",
    "import time\n",
    "with os.scandir(\"/kaggle/input/covid-world-vaccination-progress\") as dir_entries:\n",
    "    for entry in dir_entries:\n",
    "        unix_timestamp  = int(entry.stat().st_mtime)\n",
    "        utc_time = time.gmtime(unix_timestamp)\n",
    "        print(f\"Dataset last time updated: {utc_time.tm_year}-{utc_time.tm_mon}-{utc_time.tm_mday}\")\n",
    "        break\n",
    "        \n",
    "ldt = datetime.datetime.now()\n",
    "print(f\"Noteboook last time updated: {ldt.year}-{ldt.month}-{ldt.day}\")"
   ]
  },
  {
   "cell_type": "markdown",
   "metadata": {},
   "source": [
    "### Preparando Análise\n",
    "---"
   ]
  },
  {
   "cell_type": "markdown",
   "metadata": {},
   "source": [
    "Inicializamos os pacotes Python que usaremos para ingestão, preparação e visualização de dados. Usaremos principalmente o Plotly para visualização. Então lemos o arquivo de dados e agregamos os dados em alguns campos (país, iso_code e vacinas - que é o esquema de vacinação usado em um determinado país).\n",
    "\n",
    "Vamos principalmente olhar para:\n",
    "\n",
    "* Quais esquemas de vacinação são usados ​​em vários países;\n",
    "* Número total de vacinações e porcentagem de vacinações;\n",
    "* Vacinações diárias e vacinações diárias por milhão;\n",
    "* Total de pessoas vacinadas e porcentagem de pessoas vacinadas;\n",
    "\n",
    "No conjunto de dados também há informações sobre o número total de pessoas completamente vacinadas (e porcentagem delas).\n",
    "\n",
    "Visualizamos os valores mais recentes (máximos) e também a variação no tempo dos valores mencionados acima."
   ]
  },
  {
   "cell_type": "code",
   "execution_count": 3,
   "metadata": {},
   "outputs": [
    {
     "data": {
      "text/html": [
       "        <script type=\"text/javascript\">\n",
       "        window.PlotlyConfig = {MathJaxConfig: 'local'};\n",
       "        if (window.MathJax && window.MathJax.Hub && window.MathJax.Hub.Config) {window.MathJax.Hub.Config({SVG: {font: \"STIX-Web\"}});}\n",
       "        if (typeof require !== 'undefined') {\n",
       "        require.undef(\"plotly\");\n",
       "        requirejs.config({\n",
       "            paths: {\n",
       "                'plotly': ['https://cdn.plot.ly/plotly-2.35.0.min']\n",
       "            }\n",
       "        });\n",
       "        require(['plotly'], function(Plotly) {\n",
       "            window._Plotly = Plotly;\n",
       "        });\n",
       "        }\n",
       "        </script>\n",
       "        "
      ]
     },
     "metadata": {},
     "output_type": "display_data"
    }
   ],
   "source": [
    "import numpy as np\n",
    "import pandas as pd \n",
    "import matplotlib.pyplot as plt\n",
    "import seaborn as sns \n",
    "import plotly.graph_objs as go\n",
    "import plotly.figure_factory as ff\n",
    "from plotly import tools\n",
    "from plotly.offline import download_plotlyjs, init_notebook_mode, plot, iplot\n",
    "import plotly.express as px\n",
    "init_notebook_mode(connected=True)\n",
    "import warnings\n",
    "warnings.filterwarnings(\"ignore\")"
   ]
  },
  {
   "cell_type": "code",
   "execution_count": 4,
   "metadata": {},
   "outputs": [],
   "source": [
    "data_df = pd.read_csv(\"country_vaccinations.csv\")"
   ]
  },
  {
   "cell_type": "code",
   "execution_count": null,
   "metadata": {},
   "outputs": [],
   "source": [
    "country_vaccine = data_df.groupby([\"country\",\"iso_code\",\"vaccines\"])['total_vaccinations','total_vaccinations_per_hundred','daily_vaccinations','daily_vaccinations_per_million','people_vaccinated','people_vaccinated_per_hundred','people_fully_vaccinated','people_fully_vaccinated_per_hundred'].max().reset_index()\n",
    "\n",
    "country_vaccine.columns = [\"Country\",\"iso_code\",\"Vaccines\",\"Total vaccinations\",\"Percent\",\"Daily vaccinations\",\"Daily vaccinations per million\",\"People vaccinated\",\"People vaccinated per hundred\",'People fully vaccinated','People fully vaccinated percent']"
   ]
  },
  {
   "cell_type": "markdown",
   "metadata": {},
   "source": [
    "### Quais vacina são usada em cada País?\n",
    "---\n"
   ]
  },
  {
   "cell_type": "code",
   "execution_count": null,
   "metadata": {},
   "outputs": [],
   "source": [
    "vaccines = country_vaccine.Vaccines.unique()\n",
    "for v in vaccines:\n",
    "    countries = country_vaccine.loc[country_vaccine.Vaccines==v, 'Country'].values\n",
    "    print(f\"Vaccines: {v}: \\nCountries: {list(countries)}\\n\")"
   ]
  },
  {
   "cell_type": "code",
   "execution_count": null,
   "metadata": {},
   "outputs": [],
   "source": [
    "fig = px.choropleth(locations=country_vaccine['Country'], \n",
    "                    locationmode=\"country names\",\n",
    "                    color=country_vaccine['Vaccines'],\n",
    "                    title=\"Countries using each vaccine (different colors for each vaccine)\",\n",
    "                    height = 800\n",
    "                   )\n",
    "fig.update_layout({'legend_orientation':'v'})\n",
    "fig.update_layout({'legend_title':'Vaccine scheme'})\n",
    "fig.show()"
   ]
  },
  {
   "cell_type": "markdown",
   "metadata": {},
   "source": [
    "### Qual esquema de vacinação é mais utilizado?\n",
    "---"
   ]
  },
  {
   "cell_type": "markdown",
   "metadata": {},
   "source": [
    "\n",
    "#### Geral\n",
    "Vamos primeiro olhar para o esquema de vacinação usado em geral (não dividido por países)."
   ]
  },
  {
   "cell_type": "code",
   "execution_count": null,
   "metadata": {},
   "outputs": [],
   "source": [
    "vaccine = data_df.groupby([\"vaccines\"])['total_vaccinations','total_vaccinations_per_hundred',\n",
    "                                       'daily_vaccinations','daily_vaccinations_per_million'].max().reset_index()\n",
    "vaccine.columns = [\"Vaccines\", \"Total vaccinations\", \"Percent\", \"Daily vaccinations\", \n",
    "                           \"Daily vaccinations per million\"]\n",
    "def draw_trace_bar_vaccine(data, feature, title, xlab, ylab,color='Blue'):\n",
    "    data = data.sort_values(feature, ascending=False)\n",
    "    trace = go.Bar(\n",
    "            x = data['Vaccines'],\n",
    "            y = data[feature],\n",
    "            marker=dict(color=color),\n",
    "            text=data['Vaccines']\n",
    "        )\n",
    "    data = [trace]\n",
    "\n",
    "    layout = dict(title = title,\n",
    "              xaxis = dict(title = xlab, showticklabels=True, tickangle=45, \n",
    "                           zeroline=True, zerolinewidth=1, zerolinecolor='grey',\n",
    "                           showline=True, linewidth=2, linecolor='black', mirror=True,\n",
    "                          tickfont=dict(\n",
    "                            size=10,\n",
    "                            color='black'),), \n",
    "              yaxis = dict(title = ylab, gridcolor='lightgrey', zeroline=True, zerolinewidth=1, zerolinecolor='grey',\n",
    "                          showline=True, linewidth=2, linecolor='black', mirror=True),\n",
    "              plot_bgcolor = 'rgba(0, 0, 0, 0)', paper_bgcolor = 'rgba(0, 0, 0, 0)',\n",
    "              hovermode = 'closest',\n",
    "              height = 800\n",
    "             )\n",
    "    fig = dict(data = data, layout = layout)\n",
    "    iplot(fig, filename='draw_trace')"
   ]
  },
  {
   "cell_type": "markdown",
   "metadata": {},
   "source": [
    "Alguns países estão usando um esquema de vacinação misto (eles estão usando mais de uma vacina).\n",
    "\n",
    "O mapeamento é o seguinte:\n",
    "\n",
    "* Moderna, Pfizer/BioNTech - EUA;\n",
    "* CNBG, Sinovac - China;\n",
    "* Oxford/AstraZeneca, Pfizer/BioNTech', 'Pfizer/BioNTech - Reino Unido;\n",
    "* Pfizer/BioNTech - principalmente UE;\n",
    "* Pfizer/BioNTech, Sinopharm - Emirados Árabes Unidos;\n",
    "* Sinovac - Turquia;\n",
    "* Covaxin, Covishield - Índia;"
   ]
  }
 ],
 "metadata": {
  "kernelspec": {
   "display_name": ".venv",
   "language": "python",
   "name": "python3"
  },
  "language_info": {
   "codemirror_mode": {
    "name": "ipython",
    "version": 3
   },
   "file_extension": ".py",
   "mimetype": "text/x-python",
   "name": "python",
   "nbconvert_exporter": "python",
   "pygments_lexer": "ipython3",
   "version": "3.12.5"
  }
 },
 "nbformat": 4,
 "nbformat_minor": 2
}
